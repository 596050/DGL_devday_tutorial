{
 "cells": [
  {
   "cell_type": "code",
   "execution_count": 2,
   "metadata": {
    "scrolled": true
   },
   "outputs": [
    {
     "name": "stdout",
     "output_type": "stream",
     "text": [
      "[NbConvertApp] Converting notebook graph_classification_tutorial.ipynb to script\n",
      "[NbConvertApp] Writing 5041 bytes to graph_classification_tutorial.py\n"
     ]
    }
   ],
   "source": [
    "!jupyter nbconvert --to script 'graph_classification_tutorial.ipynb'"
   ]
  },
  {
   "cell_type": "code",
   "execution_count": 4,
   "metadata": {},
   "outputs": [],
   "source": [
    "import boto3\n",
    "import re\n",
    "\n",
    "import os\n",
    "import numpy as np\n",
    "from sagemaker import get_execution_role\n",
    "\n",
    "import sagemaker as sage\n",
    "from time import gmtime, strftime"
   ]
  },
  {
   "cell_type": "code",
   "execution_count": null,
   "metadata": {},
   "outputs": [],
   "source": [
    "# S3 prefix\n",
    "prefix = 'dgl_example'\n",
    "\n",
    "# Setup session\n",
    "sess = sage.Session()\n",
    "\n",
    "# Get Sagemaker role\n",
    "role = 'arn:aws:iam::397262719838:role/service-role/AmazonSageMaker-ExecutionRole-20171213T134005'\n",
    "\n",
    "CODE_PATH = 'graph_classification_tutorial.py'\n",
    "code_location = sess.upload_data(CODE_PATH, key_prefix=prefix)\n",
    "\n",
    "account = sess.boto_session.client('sts').get_caller_identity()['Account']\n",
    "region = sess.boto_session.region_name\n",
    "image = '{}.dkr.ecr.{}.amazonaws.com/sagemaker-graph-class:latest'.format(account, region)\n",
    "print(image)\n",
    "\n",
    "params = {}\n",
    "params['entrypoint'] = CODE_PATH\n",
    "tree = sage.estimator.Estimator(image,\n",
    "                       role, 1, 'ml.p3.2xlarge',\n",
    "                       hyperparameters=params,\n",
    "                       output_path=\"s3://dgl-internal-example/output\".format(sess.default_bucket()),\n",
    "                       sagemaker_session=sess)\n",
    "\n",
    "data = {}\n",
    "data['training-code'] = code_location\n",
    "data['training-data'] = 's3://dgl-sagemaker-dataset/dgl/'\n",
    "\n",
    "tree.fit(data)"
   ]
  },
  {
   "cell_type": "code",
   "execution_count": null,
   "metadata": {},
   "outputs": [],
   "source": []
  }
 ],
 "metadata": {
  "kernelspec": {
   "display_name": "DGL_devday",
   "language": "python",
   "name": "dgl_devday"
  },
  "language_info": {
   "codemirror_mode": {
    "name": "ipython",
    "version": 3
   },
   "file_extension": ".py",
   "mimetype": "text/x-python",
   "name": "python",
   "nbconvert_exporter": "python",
   "pygments_lexer": "ipython3",
   "version": "3.6.6"
  }
 },
 "nbformat": 4,
 "nbformat_minor": 2
}
